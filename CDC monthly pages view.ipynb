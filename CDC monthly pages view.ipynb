{
 "cells": [
  {
   "cell_type": "markdown",
   "metadata": {},
   "source": [
    "## Project 2\n",
    "## CDC.gov Monthly Page Views\n",
    "\n",
    "The Centers for Disease Control and Prevention (CDC) is the leading national public health institute of the United States. Its websites is CDC.GOV. The Federal government usually provide guidelines to citizens to prevent diseases especially during an epidemic and pandemic\n",
    "This project is about how people visit and view this site monthly\n"
   ]
  },
  {
   "cell_type": "markdown",
   "metadata": {},
   "source": [
    "Needed libraries"
   ]
  },
  {
   "cell_type": "code",
   "execution_count": 1,
   "metadata": {},
   "outputs": [],
   "source": [
    "import pandas as pd\n",
    "import numpy as np\n",
    "import matplotlib.pyplot as plt\n",
    "import seaborn as sns"
   ]
  },
  {
   "cell_type": "markdown",
   "metadata": {},
   "source": [
    "## Reading my data"
   ]
  },
  {
   "cell_type": "markdown",
   "metadata": {},
   "source": [
    "Reading data directly from the url"
   ]
  },
  {
   "cell_type": "code",
   "execution_count": 2,
   "metadata": {},
   "outputs": [
    {
     "data": {
      "text/html": [
       "<div>\n",
       "<style scoped>\n",
       "    .dataframe tbody tr th:only-of-type {\n",
       "        vertical-align: middle;\n",
       "    }\n",
       "\n",
       "    .dataframe tbody tr th {\n",
       "        vertical-align: top;\n",
       "    }\n",
       "\n",
       "    .dataframe thead th {\n",
       "        text-align: right;\n",
       "    }\n",
       "</style>\n",
       "<table border=\"1\" class=\"dataframe\">\n",
       "  <thead>\n",
       "    <tr style=\"text-align: right;\">\n",
       "      <th></th>\n",
       "      <th>Month</th>\n",
       "      <th>Sort</th>\n",
       "      <th>Year</th>\n",
       "      <th>Page Views</th>\n",
       "      <th>Page Visits</th>\n",
       "    </tr>\n",
       "  </thead>\n",
       "  <tbody>\n",
       "    <tr>\n",
       "      <th>0</th>\n",
       "      <td>July</td>\n",
       "      <td>7</td>\n",
       "      <td>2003</td>\n",
       "      <td>4618078</td>\n",
       "      <td>1484766.0</td>\n",
       "    </tr>\n",
       "    <tr>\n",
       "      <th>1</th>\n",
       "      <td>August</td>\n",
       "      <td>8</td>\n",
       "      <td>2003</td>\n",
       "      <td>6201906</td>\n",
       "      <td>1807820.0</td>\n",
       "    </tr>\n",
       "    <tr>\n",
       "      <th>2</th>\n",
       "      <td>September</td>\n",
       "      <td>9</td>\n",
       "      <td>2003</td>\n",
       "      <td>6212629</td>\n",
       "      <td>1926503.0</td>\n",
       "    </tr>\n",
       "    <tr>\n",
       "      <th>3</th>\n",
       "      <td>October</td>\n",
       "      <td>10</td>\n",
       "      <td>2003</td>\n",
       "      <td>5623701</td>\n",
       "      <td>1896823.0</td>\n",
       "    </tr>\n",
       "    <tr>\n",
       "      <th>4</th>\n",
       "      <td>November</td>\n",
       "      <td>11</td>\n",
       "      <td>2003</td>\n",
       "      <td>4770724</td>\n",
       "      <td>1677243.0</td>\n",
       "    </tr>\n",
       "    <tr>\n",
       "      <th>...</th>\n",
       "      <td>...</td>\n",
       "      <td>...</td>\n",
       "      <td>...</td>\n",
       "      <td>...</td>\n",
       "      <td>...</td>\n",
       "    </tr>\n",
       "    <tr>\n",
       "      <th>202</th>\n",
       "      <td>May</td>\n",
       "      <td>5</td>\n",
       "      <td>2020</td>\n",
       "      <td>308202224</td>\n",
       "      <td>145831976.0</td>\n",
       "    </tr>\n",
       "    <tr>\n",
       "      <th>203</th>\n",
       "      <td>June</td>\n",
       "      <td>6</td>\n",
       "      <td>2020</td>\n",
       "      <td>250867236</td>\n",
       "      <td>116694610.0</td>\n",
       "    </tr>\n",
       "    <tr>\n",
       "      <th>204</th>\n",
       "      <td>July</td>\n",
       "      <td>7</td>\n",
       "      <td>2020</td>\n",
       "      <td>310159256</td>\n",
       "      <td>150717264.0</td>\n",
       "    </tr>\n",
       "    <tr>\n",
       "      <th>205</th>\n",
       "      <td>August</td>\n",
       "      <td>8</td>\n",
       "      <td>2020</td>\n",
       "      <td>234636400</td>\n",
       "      <td>120994272.0</td>\n",
       "    </tr>\n",
       "    <tr>\n",
       "      <th>206</th>\n",
       "      <td>September</td>\n",
       "      <td>9</td>\n",
       "      <td>2020</td>\n",
       "      <td>202745131</td>\n",
       "      <td>105905121.0</td>\n",
       "    </tr>\n",
       "  </tbody>\n",
       "</table>\n",
       "<p>207 rows × 5 columns</p>\n",
       "</div>"
      ],
      "text/plain": [
       "         Month  Sort  Year  Page Views  Page Visits\n",
       "0         July     7  2003     4618078    1484766.0\n",
       "1       August     8  2003     6201906    1807820.0\n",
       "2    September     9  2003     6212629    1926503.0\n",
       "3      October    10  2003     5623701    1896823.0\n",
       "4     November    11  2003     4770724    1677243.0\n",
       "..         ...   ...   ...         ...          ...\n",
       "202        May     5  2020   308202224  145831976.0\n",
       "203       June     6  2020   250867236  116694610.0\n",
       "204       July     7  2020   310159256  150717264.0\n",
       "205     August     8  2020   234636400  120994272.0\n",
       "206  September     9  2020   202745131  105905121.0\n",
       "\n",
       "[207 rows x 5 columns]"
      ]
     },
     "execution_count": 2,
     "metadata": {},
     "output_type": "execute_result"
    }
   ],
   "source": [
    "url = 'https://data.cdc.gov/api/views/rq85-buyi/rows.csv?accessType=DOWNLOAD&bom=true&format=true.csv'\n",
    "df = pd.read_csv(url)\n",
    "df"
   ]
  },
  {
   "cell_type": "markdown",
   "metadata": {},
   "source": [
    "## Exploratory analysis"
   ]
  },
  {
   "cell_type": "markdown",
   "metadata": {},
   "source": [
    "Identifying the data type used"
   ]
  },
  {
   "cell_type": "code",
   "execution_count": 3,
   "metadata": {},
   "outputs": [
    {
     "name": "stdout",
     "output_type": "stream",
     "text": [
      "<class 'pandas.core.frame.DataFrame'>\n",
      "RangeIndex: 207 entries, 0 to 206\n",
      "Data columns (total 5 columns):\n",
      " #   Column       Non-Null Count  Dtype  \n",
      "---  ------       --------------  -----  \n",
      " 0   Month        207 non-null    object \n",
      " 1   Sort         207 non-null    int64  \n",
      " 2   Year         207 non-null    int64  \n",
      " 3   Page Views   207 non-null    int64  \n",
      " 4   Page Visits  186 non-null    float64\n",
      "dtypes: float64(1), int64(3), object(1)\n",
      "memory usage: 8.2+ KB\n"
     ]
    }
   ],
   "source": [
    "df.info()"
   ]
  },
  {
   "cell_type": "markdown",
   "metadata": {},
   "source": [
    "Finding the null values"
   ]
  },
  {
   "cell_type": "code",
   "execution_count": 4,
   "metadata": {},
   "outputs": [
    {
     "data": {
      "text/plain": [
       "Month           0\n",
       "Sort            0\n",
       "Year            0\n",
       "Page Views      0\n",
       "Page Visits    21\n",
       "dtype: int64"
      ]
     },
     "execution_count": 4,
     "metadata": {},
     "output_type": "execute_result"
    }
   ],
   "source": [
    "df.isnull().sum()"
   ]
  },
  {
   "cell_type": "markdown",
   "metadata": {},
   "source": [
    "The Page Visits has 21 null values"
   ]
  },
  {
   "cell_type": "markdown",
   "metadata": {},
   "source": [
    "shape of my dataframe"
   ]
  },
  {
   "cell_type": "code",
   "execution_count": 5,
   "metadata": {},
   "outputs": [
    {
     "data": {
      "text/plain": [
       "(207, 5)"
      ]
     },
     "execution_count": 5,
     "metadata": {},
     "output_type": "execute_result"
    }
   ],
   "source": [
    "df.shape"
   ]
  },
  {
   "cell_type": "markdown",
   "metadata": {},
   "source": [
    "My dataframe has 201 rows and 5 columns"
   ]
  },
  {
   "cell_type": "markdown",
   "metadata": {},
   "source": [
    "Replacing all the missing values with 0s"
   ]
  },
  {
   "cell_type": "code",
   "execution_count": 6,
   "metadata": {},
   "outputs": [],
   "source": [
    "df = df.fillna(0)"
   ]
  },
  {
   "cell_type": "code",
   "execution_count": 7,
   "metadata": {},
   "outputs": [
    {
     "data": {
      "text/plain": [
       "Month          0\n",
       "Sort           0\n",
       "Year           0\n",
       "Page Views     0\n",
       "Page Visits    0\n",
       "dtype: int64"
      ]
     },
     "execution_count": 7,
     "metadata": {},
     "output_type": "execute_result"
    }
   ],
   "source": [
    "# Checking for null values\n",
    "df.isnull().sum()"
   ]
  },
  {
   "cell_type": "code",
   "execution_count": 8,
   "metadata": {},
   "outputs": [
    {
     "data": {
      "text/html": [
       "<div>\n",
       "<style scoped>\n",
       "    .dataframe tbody tr th:only-of-type {\n",
       "        vertical-align: middle;\n",
       "    }\n",
       "\n",
       "    .dataframe tbody tr th {\n",
       "        vertical-align: top;\n",
       "    }\n",
       "\n",
       "    .dataframe thead th {\n",
       "        text-align: right;\n",
       "    }\n",
       "</style>\n",
       "<table border=\"1\" class=\"dataframe\">\n",
       "  <thead>\n",
       "    <tr style=\"text-align: right;\">\n",
       "      <th></th>\n",
       "      <th>Sort</th>\n",
       "      <th>Year</th>\n",
       "      <th>Page Views</th>\n",
       "      <th>Page Visits</th>\n",
       "    </tr>\n",
       "  </thead>\n",
       "  <tbody>\n",
       "    <tr>\n",
       "      <th>count</th>\n",
       "      <td>207.000000</td>\n",
       "      <td>207.000000</td>\n",
       "      <td>2.070000e+02</td>\n",
       "      <td>2.070000e+02</td>\n",
       "    </tr>\n",
       "    <tr>\n",
       "      <th>mean</th>\n",
       "      <td>6.521739</td>\n",
       "      <td>2011.623188</td>\n",
       "      <td>7.227459e+07</td>\n",
       "      <td>2.148210e+07</td>\n",
       "    </tr>\n",
       "    <tr>\n",
       "      <th>std</th>\n",
       "      <td>3.441362</td>\n",
       "      <td>5.005147</td>\n",
       "      <td>8.783613e+07</td>\n",
       "      <td>4.047757e+07</td>\n",
       "    </tr>\n",
       "    <tr>\n",
       "      <th>min</th>\n",
       "      <td>1.000000</td>\n",
       "      <td>2003.000000</td>\n",
       "      <td>4.618078e+06</td>\n",
       "      <td>0.000000e+00</td>\n",
       "    </tr>\n",
       "    <tr>\n",
       "      <th>25%</th>\n",
       "      <td>4.000000</td>\n",
       "      <td>2007.000000</td>\n",
       "      <td>3.949686e+07</td>\n",
       "      <td>5.885564e+06</td>\n",
       "    </tr>\n",
       "    <tr>\n",
       "      <th>50%</th>\n",
       "      <td>7.000000</td>\n",
       "      <td>2012.000000</td>\n",
       "      <td>6.084240e+07</td>\n",
       "      <td>1.277804e+07</td>\n",
       "    </tr>\n",
       "    <tr>\n",
       "      <th>75%</th>\n",
       "      <td>9.000000</td>\n",
       "      <td>2016.000000</td>\n",
       "      <td>8.294226e+07</td>\n",
       "      <td>2.575292e+07</td>\n",
       "    </tr>\n",
       "    <tr>\n",
       "      <th>max</th>\n",
       "      <td>12.000000</td>\n",
       "      <td>2020.000000</td>\n",
       "      <td>1.075595e+09</td>\n",
       "      <td>4.643059e+08</td>\n",
       "    </tr>\n",
       "  </tbody>\n",
       "</table>\n",
       "</div>"
      ],
      "text/plain": [
       "             Sort         Year    Page Views   Page Visits\n",
       "count  207.000000   207.000000  2.070000e+02  2.070000e+02\n",
       "mean     6.521739  2011.623188  7.227459e+07  2.148210e+07\n",
       "std      3.441362     5.005147  8.783613e+07  4.047757e+07\n",
       "min      1.000000  2003.000000  4.618078e+06  0.000000e+00\n",
       "25%      4.000000  2007.000000  3.949686e+07  5.885564e+06\n",
       "50%      7.000000  2012.000000  6.084240e+07  1.277804e+07\n",
       "75%      9.000000  2016.000000  8.294226e+07  2.575292e+07\n",
       "max     12.000000  2020.000000  1.075595e+09  4.643059e+08"
      ]
     },
     "execution_count": 8,
     "metadata": {},
     "output_type": "execute_result"
    }
   ],
   "source": [
    "df.describe()"
   ]
  },
  {
   "cell_type": "code",
   "execution_count": 9,
   "metadata": {},
   "outputs": [
    {
     "data": {
      "text/html": [
       "<div>\n",
       "<style scoped>\n",
       "    .dataframe tbody tr th:only-of-type {\n",
       "        vertical-align: middle;\n",
       "    }\n",
       "\n",
       "    .dataframe tbody tr th {\n",
       "        vertical-align: top;\n",
       "    }\n",
       "\n",
       "    .dataframe thead th {\n",
       "        text-align: right;\n",
       "    }\n",
       "</style>\n",
       "<table border=\"1\" class=\"dataframe\">\n",
       "  <thead>\n",
       "    <tr style=\"text-align: right;\">\n",
       "      <th></th>\n",
       "      <th>Month</th>\n",
       "      <th>Sort</th>\n",
       "      <th>Year</th>\n",
       "      <th>Page Views</th>\n",
       "      <th>Page Visits</th>\n",
       "    </tr>\n",
       "  </thead>\n",
       "  <tbody>\n",
       "    <tr>\n",
       "      <th>0</th>\n",
       "      <td>July</td>\n",
       "      <td>7</td>\n",
       "      <td>2003</td>\n",
       "      <td>4618078</td>\n",
       "      <td>1484766.0</td>\n",
       "    </tr>\n",
       "    <tr>\n",
       "      <th>1</th>\n",
       "      <td>August</td>\n",
       "      <td>8</td>\n",
       "      <td>2003</td>\n",
       "      <td>6201906</td>\n",
       "      <td>1807820.0</td>\n",
       "    </tr>\n",
       "    <tr>\n",
       "      <th>2</th>\n",
       "      <td>September</td>\n",
       "      <td>9</td>\n",
       "      <td>2003</td>\n",
       "      <td>6212629</td>\n",
       "      <td>1926503.0</td>\n",
       "    </tr>\n",
       "    <tr>\n",
       "      <th>3</th>\n",
       "      <td>October</td>\n",
       "      <td>10</td>\n",
       "      <td>2003</td>\n",
       "      <td>5623701</td>\n",
       "      <td>1896823.0</td>\n",
       "    </tr>\n",
       "    <tr>\n",
       "      <th>4</th>\n",
       "      <td>November</td>\n",
       "      <td>11</td>\n",
       "      <td>2003</td>\n",
       "      <td>4770724</td>\n",
       "      <td>1677243.0</td>\n",
       "    </tr>\n",
       "  </tbody>\n",
       "</table>\n",
       "</div>"
      ],
      "text/plain": [
       "       Month  Sort  Year  Page Views  Page Visits\n",
       "0       July     7  2003     4618078    1484766.0\n",
       "1     August     8  2003     6201906    1807820.0\n",
       "2  September     9  2003     6212629    1926503.0\n",
       "3    October    10  2003     5623701    1896823.0\n",
       "4   November    11  2003     4770724    1677243.0"
      ]
     },
     "execution_count": 9,
     "metadata": {},
     "output_type": "execute_result"
    }
   ],
   "source": [
    "df.head()"
   ]
  },
  {
   "cell_type": "code",
   "execution_count": 10,
   "metadata": {},
   "outputs": [
    {
     "data": {
      "text/html": [
       "<div>\n",
       "<style scoped>\n",
       "    .dataframe tbody tr th:only-of-type {\n",
       "        vertical-align: middle;\n",
       "    }\n",
       "\n",
       "    .dataframe tbody tr th {\n",
       "        vertical-align: top;\n",
       "    }\n",
       "\n",
       "    .dataframe thead th {\n",
       "        text-align: right;\n",
       "    }\n",
       "</style>\n",
       "<table border=\"1\" class=\"dataframe\">\n",
       "  <thead>\n",
       "    <tr style=\"text-align: right;\">\n",
       "      <th></th>\n",
       "      <th>Month</th>\n",
       "      <th>Sort</th>\n",
       "      <th>Year</th>\n",
       "      <th>Page Views</th>\n",
       "      <th>Page Visits</th>\n",
       "    </tr>\n",
       "  </thead>\n",
       "  <tbody>\n",
       "    <tr>\n",
       "      <th>202</th>\n",
       "      <td>May</td>\n",
       "      <td>5</td>\n",
       "      <td>2020</td>\n",
       "      <td>308202224</td>\n",
       "      <td>145831976.0</td>\n",
       "    </tr>\n",
       "    <tr>\n",
       "      <th>203</th>\n",
       "      <td>June</td>\n",
       "      <td>6</td>\n",
       "      <td>2020</td>\n",
       "      <td>250867236</td>\n",
       "      <td>116694610.0</td>\n",
       "    </tr>\n",
       "    <tr>\n",
       "      <th>204</th>\n",
       "      <td>July</td>\n",
       "      <td>7</td>\n",
       "      <td>2020</td>\n",
       "      <td>310159256</td>\n",
       "      <td>150717264.0</td>\n",
       "    </tr>\n",
       "    <tr>\n",
       "      <th>205</th>\n",
       "      <td>August</td>\n",
       "      <td>8</td>\n",
       "      <td>2020</td>\n",
       "      <td>234636400</td>\n",
       "      <td>120994272.0</td>\n",
       "    </tr>\n",
       "    <tr>\n",
       "      <th>206</th>\n",
       "      <td>September</td>\n",
       "      <td>9</td>\n",
       "      <td>2020</td>\n",
       "      <td>202745131</td>\n",
       "      <td>105905121.0</td>\n",
       "    </tr>\n",
       "  </tbody>\n",
       "</table>\n",
       "</div>"
      ],
      "text/plain": [
       "         Month  Sort  Year  Page Views  Page Visits\n",
       "202        May     5  2020   308202224  145831976.0\n",
       "203       June     6  2020   250867236  116694610.0\n",
       "204       July     7  2020   310159256  150717264.0\n",
       "205     August     8  2020   234636400  120994272.0\n",
       "206  September     9  2020   202745131  105905121.0"
      ]
     },
     "execution_count": 10,
     "metadata": {},
     "output_type": "execute_result"
    }
   ],
   "source": [
    "df.tail()"
   ]
  },
  {
   "cell_type": "markdown",
   "metadata": {},
   "source": [
    "## Visualization\n",
    "This inolves understanding the CDC.GOV Monthly page views data by placing it in a visual context so that patterns,\n",
    "trends and correlations that might not otherwise be detected can be exposed."
   ]
  },
  {
   "cell_type": "code",
   "execution_count": 11,
   "metadata": {},
   "outputs": [
    {
     "data": {
      "text/html": [
       "<div>\n",
       "<style scoped>\n",
       "    .dataframe tbody tr th:only-of-type {\n",
       "        vertical-align: middle;\n",
       "    }\n",
       "\n",
       "    .dataframe tbody tr th {\n",
       "        vertical-align: top;\n",
       "    }\n",
       "\n",
       "    .dataframe thead th {\n",
       "        text-align: right;\n",
       "    }\n",
       "</style>\n",
       "<table border=\"1\" class=\"dataframe\">\n",
       "  <thead>\n",
       "    <tr style=\"text-align: right;\">\n",
       "      <th></th>\n",
       "      <th>Month</th>\n",
       "      <th>Sort</th>\n",
       "      <th>Year</th>\n",
       "      <th>Page Views</th>\n",
       "      <th>Page Visits</th>\n",
       "    </tr>\n",
       "  </thead>\n",
       "  <tbody>\n",
       "    <tr>\n",
       "      <th>198</th>\n",
       "      <td>January</td>\n",
       "      <td>1</td>\n",
       "      <td>2020</td>\n",
       "      <td>160606804</td>\n",
       "      <td>55760470.0</td>\n",
       "    </tr>\n",
       "    <tr>\n",
       "      <th>199</th>\n",
       "      <td>February</td>\n",
       "      <td>2</td>\n",
       "      <td>2020</td>\n",
       "      <td>259304581</td>\n",
       "      <td>92844648.0</td>\n",
       "    </tr>\n",
       "    <tr>\n",
       "      <th>200</th>\n",
       "      <td>March</td>\n",
       "      <td>3</td>\n",
       "      <td>2020</td>\n",
       "      <td>1075594920</td>\n",
       "      <td>464305872.0</td>\n",
       "    </tr>\n",
       "    <tr>\n",
       "      <th>201</th>\n",
       "      <td>April</td>\n",
       "      <td>4</td>\n",
       "      <td>2020</td>\n",
       "      <td>474161614</td>\n",
       "      <td>230632881.0</td>\n",
       "    </tr>\n",
       "    <tr>\n",
       "      <th>202</th>\n",
       "      <td>May</td>\n",
       "      <td>5</td>\n",
       "      <td>2020</td>\n",
       "      <td>308202224</td>\n",
       "      <td>145831976.0</td>\n",
       "    </tr>\n",
       "    <tr>\n",
       "      <th>203</th>\n",
       "      <td>June</td>\n",
       "      <td>6</td>\n",
       "      <td>2020</td>\n",
       "      <td>250867236</td>\n",
       "      <td>116694610.0</td>\n",
       "    </tr>\n",
       "    <tr>\n",
       "      <th>204</th>\n",
       "      <td>July</td>\n",
       "      <td>7</td>\n",
       "      <td>2020</td>\n",
       "      <td>310159256</td>\n",
       "      <td>150717264.0</td>\n",
       "    </tr>\n",
       "    <tr>\n",
       "      <th>205</th>\n",
       "      <td>August</td>\n",
       "      <td>8</td>\n",
       "      <td>2020</td>\n",
       "      <td>234636400</td>\n",
       "      <td>120994272.0</td>\n",
       "    </tr>\n",
       "    <tr>\n",
       "      <th>206</th>\n",
       "      <td>September</td>\n",
       "      <td>9</td>\n",
       "      <td>2020</td>\n",
       "      <td>202745131</td>\n",
       "      <td>105905121.0</td>\n",
       "    </tr>\n",
       "  </tbody>\n",
       "</table>\n",
       "</div>"
      ],
      "text/plain": [
       "         Month  Sort  Year  Page Views  Page Visits\n",
       "198    January     1  2020   160606804   55760470.0\n",
       "199   February     2  2020   259304581   92844648.0\n",
       "200      March     3  2020  1075594920  464305872.0\n",
       "201      April     4  2020   474161614  230632881.0\n",
       "202        May     5  2020   308202224  145831976.0\n",
       "203       June     6  2020   250867236  116694610.0\n",
       "204       July     7  2020   310159256  150717264.0\n",
       "205     August     8  2020   234636400  120994272.0\n",
       "206  September     9  2020   202745131  105905121.0"
      ]
     },
     "execution_count": 11,
     "metadata": {},
     "output_type": "execute_result"
    }
   ],
   "source": [
    "#rows of page views for the year 2020\n",
    "df1= df.loc[df['Year'] == 2020]\n",
    "df1"
   ]
  },
  {
   "cell_type": "code",
   "execution_count": 12,
   "metadata": {},
   "outputs": [],
   "source": [
    "# Bar plot of page views for 2020 vs Months"
   ]
  },
  {
   "cell_type": "code",
   "execution_count": 12,
   "metadata": {},
   "outputs": [
    {
     "data": {
      "text/plain": [
       "<matplotlib.axes._subplots.AxesSubplot at 0x203dbf64970>"
      ]
     },
     "execution_count": 12,
     "metadata": {},
     "output_type": "execute_result"
    },
    {
     "data": {
      "image/png": "[encoded data removed]",
      "text/plain": [
       "<Figure size 1440x720 with 1 Axes>"
      ]
     },
     "metadata": {
      "needs_background": "light"
     },
     "output_type": "display_data"
    }
   ],
   "source": [
    "df1.plot(kind='bar',x='Month',y='Page Views', figsize=(20, 10), color='green', title='bar plot of Month vs Page Views')"
   ]
  },
  {
   "cell_type": "markdown",
   "metadata": {},
   "source": [
    "From my bar chart March  has the highest views since the beginning of the year 2020, because more people became concern as the infection and death rate of citizens from the coronavirus increases. Many people turned to view CDC website during epidemics and pandemics like the covid-19 we have now"
   ]
  },
  {
   "cell_type": "code",
   "execution_count": 14,
   "metadata": {},
   "outputs": [],
   "source": [
    "# Line plot of page views from January 2020 to March 2020 vs Month"
   ]
  },
  {
   "cell_type": "code",
   "execution_count": 13,
   "metadata": {},
   "outputs": [
    {
     "data": {
      "text/plain": [
       "<matplotlib.axes._subplots.AxesSubplot at 0x203dcaece80>"
      ]
     },
     "execution_count": 13,
     "metadata": {},
     "output_type": "execute_result"
    },
    {
     "data": {
      "image/png": "[encoded data removed]",
      "text/plain": [
       "<Figure size 1440x720 with 1 Axes>"
      ]
     },
     "metadata": {
      "needs_background": "light"
     },
     "output_type": "display_data"
    }
   ],
   "source": [
    "df2 = df1.loc[df['Sort']<=3]\n",
    "df2.plot(kind='line',x='Month',y='Page Views', color='red', figsize=(20,10), title = 'Month vs Page Views')"
   ]
  },
  {
   "cell_type": "markdown",
   "metadata": {},
   "source": [
    "The graph rises steadily from January to February and peak up in march, this is because as the coronavirus pademic was spreading and killing many people worldwide, many citizens became concern and the number of visit to the CDC website increases  as more people turn to visit this page to follow coronavirus guidelines put in place  by the CDC"
   ]
  },
  {
   "cell_type": "code",
   "execution_count": 30,
   "metadata": {},
   "outputs": [
    {
     "data": {
      "text/html": [
       "<div>\n",
       "<style scoped>\n",
       "    .dataframe tbody tr th:only-of-type {\n",
       "        vertical-align: middle;\n",
       "    }\n",
       "\n",
       "    .dataframe tbody tr th {\n",
       "        vertical-align: top;\n",
       "    }\n",
       "\n",
       "    .dataframe thead th {\n",
       "        text-align: right;\n",
       "    }\n",
       "</style>\n",
       "<table border=\"1\" class=\"dataframe\">\n",
       "  <thead>\n",
       "    <tr style=\"text-align: right;\">\n",
       "      <th></th>\n",
       "      <th>Month</th>\n",
       "      <th>Sort</th>\n",
       "      <th>Year</th>\n",
       "      <th>Page Views</th>\n",
       "      <th>Page Visits</th>\n",
       "    </tr>\n",
       "  </thead>\n",
       "  <tbody>\n",
       "    <tr>\n",
       "      <th>8</th>\n",
       "      <td>March</td>\n",
       "      <td>3</td>\n",
       "      <td>2004</td>\n",
       "      <td>11866809</td>\n",
       "      <td>1926503.0</td>\n",
       "    </tr>\n",
       "    <tr>\n",
       "      <th>20</th>\n",
       "      <td>March</td>\n",
       "      <td>3</td>\n",
       "      <td>2005</td>\n",
       "      <td>29023852</td>\n",
       "      <td>3865053.0</td>\n",
       "    </tr>\n",
       "    <tr>\n",
       "      <th>32</th>\n",
       "      <td>March</td>\n",
       "      <td>3</td>\n",
       "      <td>2006</td>\n",
       "      <td>41038226</td>\n",
       "      <td>6980043.0</td>\n",
       "    </tr>\n",
       "    <tr>\n",
       "      <th>44</th>\n",
       "      <td>March</td>\n",
       "      <td>3</td>\n",
       "      <td>2007</td>\n",
       "      <td>40955689</td>\n",
       "      <td>9050834.0</td>\n",
       "    </tr>\n",
       "    <tr>\n",
       "      <th>56</th>\n",
       "      <td>March</td>\n",
       "      <td>3</td>\n",
       "      <td>2008</td>\n",
       "      <td>44741580</td>\n",
       "      <td>9625709.0</td>\n",
       "    </tr>\n",
       "    <tr>\n",
       "      <th>68</th>\n",
       "      <td>March</td>\n",
       "      <td>3</td>\n",
       "      <td>2009</td>\n",
       "      <td>46508062</td>\n",
       "      <td>11388454.0</td>\n",
       "    </tr>\n",
       "    <tr>\n",
       "      <th>80</th>\n",
       "      <td>March</td>\n",
       "      <td>3</td>\n",
       "      <td>2010</td>\n",
       "      <td>53120987</td>\n",
       "      <td>28323356.0</td>\n",
       "    </tr>\n",
       "    <tr>\n",
       "      <th>92</th>\n",
       "      <td>March</td>\n",
       "      <td>3</td>\n",
       "      <td>2011</td>\n",
       "      <td>46798740</td>\n",
       "      <td>21261030.0</td>\n",
       "    </tr>\n",
       "    <tr>\n",
       "      <th>104</th>\n",
       "      <td>March</td>\n",
       "      <td>3</td>\n",
       "      <td>2012</td>\n",
       "      <td>61073099</td>\n",
       "      <td>13147340.0</td>\n",
       "    </tr>\n",
       "    <tr>\n",
       "      <th>116</th>\n",
       "      <td>March</td>\n",
       "      <td>3</td>\n",
       "      <td>2013</td>\n",
       "      <td>67808429</td>\n",
       "      <td>16341618.0</td>\n",
       "    </tr>\n",
       "    <tr>\n",
       "      <th>128</th>\n",
       "      <td>March</td>\n",
       "      <td>3</td>\n",
       "      <td>2014</td>\n",
       "      <td>84225073</td>\n",
       "      <td>20983540.0</td>\n",
       "    </tr>\n",
       "    <tr>\n",
       "      <th>140</th>\n",
       "      <td>March</td>\n",
       "      <td>3</td>\n",
       "      <td>2015</td>\n",
       "      <td>85489321</td>\n",
       "      <td>0.0</td>\n",
       "    </tr>\n",
       "    <tr>\n",
       "      <th>152</th>\n",
       "      <td>March</td>\n",
       "      <td>3</td>\n",
       "      <td>2016</td>\n",
       "      <td>112285513</td>\n",
       "      <td>36412169.0</td>\n",
       "    </tr>\n",
       "    <tr>\n",
       "      <th>164</th>\n",
       "      <td>March</td>\n",
       "      <td>3</td>\n",
       "      <td>2017</td>\n",
       "      <td>82576635</td>\n",
       "      <td>30162048.0</td>\n",
       "    </tr>\n",
       "    <tr>\n",
       "      <th>176</th>\n",
       "      <td>March</td>\n",
       "      <td>3</td>\n",
       "      <td>2018</td>\n",
       "      <td>73858019</td>\n",
       "      <td>26481350.0</td>\n",
       "    </tr>\n",
       "    <tr>\n",
       "      <th>188</th>\n",
       "      <td>March</td>\n",
       "      <td>3</td>\n",
       "      <td>2019</td>\n",
       "      <td>99595793</td>\n",
       "      <td>35005321.0</td>\n",
       "    </tr>\n",
       "    <tr>\n",
       "      <th>200</th>\n",
       "      <td>March</td>\n",
       "      <td>3</td>\n",
       "      <td>2020</td>\n",
       "      <td>1075594920</td>\n",
       "      <td>464305872.0</td>\n",
       "    </tr>\n",
       "  </tbody>\n",
       "</table>\n",
       "</div>"
      ],
      "text/plain": [
       "     Month  Sort  Year  Page Views  Page Visits\n",
       "8    March     3  2004    11866809    1926503.0\n",
       "20   March     3  2005    29023852    3865053.0\n",
       "32   March     3  2006    41038226    6980043.0\n",
       "44   March     3  2007    40955689    9050834.0\n",
       "56   March     3  2008    44741580    9625709.0\n",
       "68   March     3  2009    46508062   11388454.0\n",
       "80   March     3  2010    53120987   28323356.0\n",
       "92   March     3  2011    46798740   21261030.0\n",
       "104  March     3  2012    61073099   13147340.0\n",
       "116  March     3  2013    67808429   16341618.0\n",
       "128  March     3  2014    84225073   20983540.0\n",
       "140  March     3  2015    85489321          0.0\n",
       "152  March     3  2016   112285513   36412169.0\n",
       "164  March     3  2017    82576635   30162048.0\n",
       "176  March     3  2018    73858019   26481350.0\n",
       "188  March     3  2019    99595793   35005321.0\n",
       "200  March     3  2020  1075594920  464305872.0"
      ]
     },
     "execution_count": 30,
     "metadata": {},
     "output_type": "execute_result"
    }
   ],
   "source": [
    "# Page views for the months of march from 2004 to 2020\n",
    "df3= df.loc[df['Month'] =='March']\n",
    "df3"
   ]
  },
  {
   "cell_type": "code",
   "execution_count": 15,
   "metadata": {},
   "outputs": [
    {
     "data": {
      "text/plain": [
       "<matplotlib.axes._subplots.AxesSubplot at 0x203dc712460>"
      ]
     },
     "execution_count": 15,
     "metadata": {},
     "output_type": "execute_result"
    },
    {
     "data": {
      "image/png": "[encoded data removed]",
      "text/plain": [
       "<Figure size 1440x720 with 1 Axes>"
      ]
     },
     "metadata": {
      "needs_background": "light"
     },
     "output_type": "display_data"
    }
   ],
   "source": [
    "df3.plot(kind='bar',x='Year',y='Page Views', figsize=(20, 10), title='Year vs Page Views')"
   ]
  },
  {
   "cell_type": "markdown",
   "metadata": {},
   "source": [
    "The plot shows a bar plot of the Page views of the month of march from 2004 to 2020. March 2020 clearly  has the highest number of views because of the covid-19 pandemic outbreak"
   ]
  },
  {
   "cell_type": "code",
   "execution_count": 16,
   "metadata": {},
   "outputs": [
    {
     "data": {
      "text/html": [
       "<div>\n",
       "<style scoped>\n",
       "    .dataframe tbody tr th:only-of-type {\n",
       "        vertical-align: middle;\n",
       "    }\n",
       "\n",
       "    .dataframe tbody tr th {\n",
       "        vertical-align: top;\n",
       "    }\n",
       "\n",
       "    .dataframe thead th {\n",
       "        text-align: right;\n",
       "    }\n",
       "</style>\n",
       "<table border=\"1\" class=\"dataframe\">\n",
       "  <thead>\n",
       "    <tr style=\"text-align: right;\">\n",
       "      <th></th>\n",
       "      <th>Month</th>\n",
       "      <th>Sort</th>\n",
       "      <th>Year</th>\n",
       "      <th>Page Views</th>\n",
       "      <th>Page Visits</th>\n",
       "    </tr>\n",
       "  </thead>\n",
       "  <tbody>\n",
       "    <tr>\n",
       "      <th>0</th>\n",
       "      <td>July</td>\n",
       "      <td>7</td>\n",
       "      <td>2003</td>\n",
       "      <td>4618078</td>\n",
       "      <td>1484766.0</td>\n",
       "    </tr>\n",
       "    <tr>\n",
       "      <th>1</th>\n",
       "      <td>August</td>\n",
       "      <td>8</td>\n",
       "      <td>2003</td>\n",
       "      <td>6201906</td>\n",
       "      <td>1807820.0</td>\n",
       "    </tr>\n",
       "    <tr>\n",
       "      <th>2</th>\n",
       "      <td>September</td>\n",
       "      <td>9</td>\n",
       "      <td>2003</td>\n",
       "      <td>6212629</td>\n",
       "      <td>1926503.0</td>\n",
       "    </tr>\n",
       "    <tr>\n",
       "      <th>3</th>\n",
       "      <td>October</td>\n",
       "      <td>10</td>\n",
       "      <td>2003</td>\n",
       "      <td>5623701</td>\n",
       "      <td>1896823.0</td>\n",
       "    </tr>\n",
       "    <tr>\n",
       "      <th>4</th>\n",
       "      <td>November</td>\n",
       "      <td>11</td>\n",
       "      <td>2003</td>\n",
       "      <td>4770724</td>\n",
       "      <td>1677243.0</td>\n",
       "    </tr>\n",
       "    <tr>\n",
       "      <th>...</th>\n",
       "      <td>...</td>\n",
       "      <td>...</td>\n",
       "      <td>...</td>\n",
       "      <td>...</td>\n",
       "      <td>...</td>\n",
       "    </tr>\n",
       "    <tr>\n",
       "      <th>202</th>\n",
       "      <td>May</td>\n",
       "      <td>5</td>\n",
       "      <td>2020</td>\n",
       "      <td>308202224</td>\n",
       "      <td>145831976.0</td>\n",
       "    </tr>\n",
       "    <tr>\n",
       "      <th>203</th>\n",
       "      <td>June</td>\n",
       "      <td>6</td>\n",
       "      <td>2020</td>\n",
       "      <td>250867236</td>\n",
       "      <td>116694610.0</td>\n",
       "    </tr>\n",
       "    <tr>\n",
       "      <th>204</th>\n",
       "      <td>July</td>\n",
       "      <td>7</td>\n",
       "      <td>2020</td>\n",
       "      <td>310159256</td>\n",
       "      <td>150717264.0</td>\n",
       "    </tr>\n",
       "    <tr>\n",
       "      <th>205</th>\n",
       "      <td>August</td>\n",
       "      <td>8</td>\n",
       "      <td>2020</td>\n",
       "      <td>234636400</td>\n",
       "      <td>120994272.0</td>\n",
       "    </tr>\n",
       "    <tr>\n",
       "      <th>206</th>\n",
       "      <td>September</td>\n",
       "      <td>9</td>\n",
       "      <td>2020</td>\n",
       "      <td>202745131</td>\n",
       "      <td>105905121.0</td>\n",
       "    </tr>\n",
       "  </tbody>\n",
       "</table>\n",
       "<p>207 rows × 5 columns</p>\n",
       "</div>"
      ],
      "text/plain": [
       "         Month  Sort  Year  Page Views  Page Visits\n",
       "0         July     7  2003     4618078    1484766.0\n",
       "1       August     8  2003     6201906    1807820.0\n",
       "2    September     9  2003     6212629    1926503.0\n",
       "3      October    10  2003     5623701    1896823.0\n",
       "4     November    11  2003     4770724    1677243.0\n",
       "..         ...   ...   ...         ...          ...\n",
       "202        May     5  2020   308202224  145831976.0\n",
       "203       June     6  2020   250867236  116694610.0\n",
       "204       July     7  2020   310159256  150717264.0\n",
       "205     August     8  2020   234636400  120994272.0\n",
       "206  September     9  2020   202745131  105905121.0\n",
       "\n",
       "[207 rows x 5 columns]"
      ]
     },
     "execution_count": 16,
     "metadata": {},
     "output_type": "execute_result"
    }
   ],
   "source": [
    "df"
   ]
  },
  {
   "cell_type": "markdown",
   "metadata": {},
   "source": [
    "## Hypothesis 1"
   ]
  },
  {
   "cell_type": "markdown",
   "metadata": {},
   "source": [
    "Page views to CDC.gov have steadily risen from 2008-2018, climbing from outbreak-related interest on H1N1 and Ebola, and peaking in 2016 due to Zika traffic. And rises steadily again from 2019 to 2020 This is because more people turn to open the CDC.GOV website during an epidemic and a pandemic to follow instructions for preventive measures"
   ]
  },
  {
   "cell_type": "code",
   "execution_count": 24,
   "metadata": {},
   "outputs": [],
   "source": [
    "#Proving hypothesis 1"
   ]
  },
  {
   "cell_type": "code",
   "execution_count": 17,
   "metadata": {},
   "outputs": [
    {
     "data": {
      "text/plain": [
       "<matplotlib.axes._subplots.AxesSubplot at 0x203dca81340>"
      ]
     },
     "execution_count": 17,
     "metadata": {},
     "output_type": "execute_result"
    },
    {
     "data": {
      "image/png": "[encoded data removed]",
      "text/plain": [
       "<Figure size 1440x720 with 1 Axes>"
      ]
     },
     "metadata": {
      "needs_background": "light"
     },
     "output_type": "display_data"
    }
   ],
   "source": [
    "#Bar graph\n",
    "df.plot(kind='line',x='Year',y='Page Views', color='red', figsize=(20,10))"
   ]
  },
  {
   "cell_type": "markdown",
   "metadata": {},
   "source": [
    "Page views to CDC.gov have steadily risen from 2008-2016, climbing from outbreak-related interest on H1N1 and Ebola and peaking in 2016 due to Zika traffic.\n",
    "It rises again from 2019 to 2020 due to the coronavirus outbreaks"
   ]
  },
  {
   "cell_type": "markdown",
   "metadata": {},
   "source": [
    "The month of March has the the highest number of views from 2004 to 2020"
   ]
  },
  {
   "cell_type": "code",
   "execution_count": 18,
   "metadata": {},
   "outputs": [
    {
     "data": {
      "image/png": "[encoded data removed]",
      "text/plain": [
       "<Figure size 360x360 with 1 Axes>"
      ]
     },
     "metadata": {},
     "output_type": "display_data"
    }
   ],
   "source": [
    "#Pie Chart\n",
    "df3=df3.set_index('Year')\n",
    "plot = df3.plot.pie(y='Page Views', figsize=(5, 5))"
   ]
  },
  {
   "cell_type": "raw",
   "metadata": {},
   "source": [
    "The pie chart shows 2020 with the highest number of page views followed by 2016 this is due to the covid-19 and ebola pandemic outbreak respectively. This still ties to hypothesis 1"
   ]
  },
  {
   "cell_type": "markdown",
   "metadata": {},
   "source": [
    "## Hypothesis 2"
   ]
  },
  {
   "cell_type": "markdown",
   "metadata": {},
   "source": [
    "Given the recent outbreak of covid-19 worldwide, I could hypothesize that the CDC page views in 2020  shapely increases because more people visit the site to follow CDC guidelines for Covid-19 prevention"
   ]
  },
  {
   "cell_type": "code",
   "execution_count": 20,
   "metadata": {},
   "outputs": [
    {
     "data": {
      "text/plain": [
       "<matplotlib.axes._subplots.AxesSubplot at 0x203dd1cc970>"
      ]
     },
     "execution_count": 20,
     "metadata": {},
     "output_type": "execute_result"
    },
    {
     "data": {
      "image/png": "[encoded data removed]",
      "text/plain": [
       "<Figure size 1440x720 with 1 Axes>"
      ]
     },
     "metadata": {
      "needs_background": "light"
     },
     "output_type": "display_data"
    }
   ],
   "source": [
    "df2\n",
    "df2.plot(kind='line',x='Month',y='Page Views', color='red', figsize=(20,10))"
   ]
  },
  {
   "cell_type": "code",
   "execution_count": 21,
   "metadata": {},
   "outputs": [
    {
     "data": {
      "text/plain": [
       "<matplotlib.axes._subplots.AxesSubplot at 0x203dd4f88b0>"
      ]
     },
     "execution_count": 21,
     "metadata": {},
     "output_type": "execute_result"
    },
    {
     "data": {
      "image/png": "[encoded data removed]",
      "text/plain": [
       "<Figure size 360x360 with 1 Axes>"
      ]
     },
     "metadata": {},
     "output_type": "display_data"
    }
   ],
   "source": [
    "df2=df2.set_index('Month')\n",
    "df2.plot.pie(y='Page Views', figsize=(5, 5))"
   ]
  },
  {
   "cell_type": "code",
   "execution_count": 31,
   "metadata": {},
   "outputs": [
    {
     "data": {
      "text/plain": [
       "<matplotlib.axes._subplots.AxesSubplot at 0x203df1b7a00>"
      ]
     },
     "execution_count": 31,
     "metadata": {},
     "output_type": "execute_result"
    },
    {
     "data": {
      "image/png": "[encoded data removed]",
      "text/plain": [
       "<Figure size 1440x720 with 1 Axes>"
      ]
     },
     "metadata": {
      "needs_background": "light"
     },
     "output_type": "display_data"
    }
   ],
   "source": [
    "df3.plot(kind='bar',x='Year',y='Page Views', figsize=(20, 10))"
   ]
  },
  {
   "cell_type": "markdown",
   "metadata": {},
   "source": [
    "Line plot:\n",
    "\n",
    "The line plot takes into account only the months of 2020. Looking at the plot there is a steady rise of page views from\n",
    "\n",
    "January to February and a sharp rise from February to March. This is due to the outbreak of coronavirus which has prompted\n",
    "\n",
    "alot of people to visit the CDC website\n",
    "\n",
    "Pie chart:\n",
    "\n",
    "The pie chart illustrates same thing\n",
    "\n",
    "Bar Chart:\n",
    "\n",
    "Looking at the bar plot, 2020 clearly shows the highest number of page views which is due to the current pandemic\n",
    "\n",
    "The three plots support hypothesis 2\n"
   ]
  },
  {
   "cell_type": "markdown",
   "metadata": {},
   "source": [
    "## Conclusion"
   ]
  },
  {
   "cell_type": "markdown",
   "metadata": {},
   "source": [
    "Whenever there's an epidemic or pandemic outbreak, the CDC always provide guidelines on it website CDC.GOV for citizens to follow. Always expect the number of page views to sharply increase during such outbreaks since citizens visit this site frequently."
   ]
  },
  {
   "cell_type": "code",
   "execution_count": null,
   "metadata": {},
   "outputs": [],
   "source": []
  }
 ],
 "metadata": {
  "kernelspec": {
   "display_name": "Python 3",
   "language": "python",
   "name": "python3"
  },
  "language_info": {
   "codemirror_mode": {
    "name": "ipython",
    "version": 3
   },
   "file_extension": ".py",
   "mimetype": "text/x-python",
   "name": "python",
   "nbconvert_exporter": "python",
   "pygments_lexer": "ipython3",
   "version": "3.8.3"
  }
 },
 "nbformat": 4,
 "nbformat_minor": 4
}
